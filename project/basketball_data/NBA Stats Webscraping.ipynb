{
 "cells": [
  {
   "cell_type": "code",
   "execution_count": 2,
   "id": "91959ca0",
   "metadata": {},
   "outputs": [],
   "source": [
    "import requests \n",
    "import pandas as pd \n",
    "pd.set_option('display.max_columns', None)\n",
    "import time \n",
    "import numpy as np"
   ]
  },
  {
   "cell_type": "code",
   "execution_count": 23,
   "id": "51ef68ed",
   "metadata": {},
   "outputs": [],
   "source": [
    "stats_url = 'https://stats.nba.com/stats/leagueLeaders?LeagueID=00&PerMode=PerGame&Scope=S&Season=2020-21&SeasonType=Regular%20Season&StatCategory=PTS'"
   ]
  },
  {
   "cell_type": "code",
   "execution_count": 24,
   "id": "b5ea1eae",
   "metadata": {},
   "outputs": [],
   "source": [
    "r = requests.get(url=stats_url).json()"
   ]
  },
  {
   "cell_type": "code",
   "execution_count": 25,
   "id": "a0e5db86",
   "metadata": {},
   "outputs": [],
   "source": [
    "table_headers = r['resultSet']['headers']"
   ]
  },
  {
   "cell_type": "code",
   "execution_count": null,
   "id": "135cc957",
   "metadata": {},
   "outputs": [],
   "source": [
    "pd.DataFrame(r['resultSet']['rowSet'], columns=table_headers)"
   ]
  },
  {
   "cell_type": "code",
   "execution_count": null,
   "id": "f9552e58",
   "metadata": {},
   "outputs": [],
   "source": [
    "temp_df1 = pd.DataFrame(r['resultSet']['rowSet'], columns=table_headers)\n",
    "temp_df2 = pd.DataFrame({'Year':['2020-21' for i in range(len(temp_df1))],\n",
    "                        'Season_type':['Regular%20Season' for i in range(len(temp_df1))]})\n",
    "temp_df3 = pd.concat([temp_df2, temp_df1], axis=1)\n",
    "temp_df3"
   ]
  },
  {
   "cell_type": "code",
   "execution_count": 28,
   "id": "ed8cb6af",
   "metadata": {},
   "outputs": [],
   "source": [
    "del temp_df1, temp_df2, temp_df3"
   ]
  },
  {
   "cell_type": "code",
   "execution_count": 29,
   "id": "8961442e",
   "metadata": {},
   "outputs": [],
   "source": [
    "df_cols = ['Year', 'Season_type'] + table_headers"
   ]
  },
  {
   "cell_type": "code",
   "execution_count": null,
   "id": "ca954ceb",
   "metadata": {},
   "outputs": [],
   "source": [
    "pd.DataFrame(columns=df_cols)"
   ]
  },
  {
   "cell_type": "code",
   "execution_count": 35,
   "id": "cff29bdd",
   "metadata": {},
   "outputs": [],
   "source": [
    "headers = {\n",
    "    'Accept':'*/*',\n",
    "    'Accept-Encoding': 'gzip, deflate, br',\n",
    "    'Accept-Language': 'en-US,en;q=0.6',\n",
    "    'Connection': 'keep-alive',\n",
    "    'Host': 'stats.nba.com',\n",
    "    'Origin': 'https://www.nba.com',\n",
    "    'Referer': 'https://www.nba.com/',\n",
    "    'Sec-Ch-Ua': '\"Not_A Brand\";v=\"8\", \"Chromium\";v=\"120\", \"Brave\";v=\"120\"',\n",
    "    'Sec-Ch-Ua-Mobile': '?0',\n",
    "    'Sec-Ch-Ua-Platform': \"macOS\",\n",
    "    'Sec-Fetch-Dest': 'empty',\n",
    "    'Sec-Fetch-Mode': 'cors',\n",
    "    'Sec-Fetch-Site': 'same-site',\n",
    "    'Sec-Gpc': '1',\n",
    "    'User-Agent': 'Mozilla/5.0 (Macintosh; Intel Mac OS X 10_15_7) AppleWebKit/537.36 (KHTML, like Gecko) Chrome/120.0.0.0 Safari/537.36'\n",
    "}"
   ]
  },
  {
   "cell_type": "code",
   "execution_count": null,
   "id": "ab5f096a",
   "metadata": {},
   "outputs": [],
   "source": [
    "df = pd.DataFrame(columns=df_cols)\n",
    "season_type = ['Regular%20Season']\n",
    "years = ['2020-21', '2021-22', '2022-23', '2023-24']\n",
    "\n",
    "begin_loop = time.time()\n",
    "\n",
    "for y in years:\n",
    "    for s in season_type:\n",
    "        api_url = 'https://stats.nba.com/stats/leagueLeaders?LeagueID=00&PerMode=PerGame&Scope=S&Season='+y+'&SeasonType='+s+'&StatCategory=PTS'\n",
    "        r = requests.get(url=api_url, headers=headers).json()\n",
    "        stats_df1 = pd.DataFrame(r['resultSet']['rowSet'], columns=table_headers)\n",
    "        stats_df2 = pd.DataFrame({'Year':[y for i in range(len(temp_df1))],\n",
    "                        'Season_type':[s for i in range(len(temp_df1))]})\n",
    "        stats_df3 = pd.concat([stats_df2, stats_df1], axis=1)\n",
    "        df = pd.concat([df, stats_df3], axis=0)\n",
    "        print(f'Finish scraping data for the {y} {s}.')\n",
    "        lag = np.random.uniform(low=5,high=40) #Want to be not looking like a bot out there \n",
    "        print(f'...waiting {round(lag,1)} seconds')\n",
    "        time.sleep(lag)\n",
    "print(f'Process Completed! Total run time: {round(time.time()-begin_loop/60, 2)}')\n",
    "df.to_excel('fantasy_chatbot_nba_data.xlsx', index = False)"
   ]
  }
 ],
 "metadata": {
  "kernelspec": {
   "display_name": "Python 3 (ipykernel)",
   "language": "python",
   "name": "python3"
  },
  "language_info": {
   "codemirror_mode": {
    "name": "ipython",
    "version": 3
   },
   "file_extension": ".py",
   "mimetype": "text/x-python",
   "name": "python",
   "nbconvert_exporter": "python",
   "pygments_lexer": "ipython3",
   "version": "3.10.9"
  }
 },
 "nbformat": 4,
 "nbformat_minor": 5
}
